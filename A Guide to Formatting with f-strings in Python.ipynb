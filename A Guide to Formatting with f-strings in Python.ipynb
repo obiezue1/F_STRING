{
 "cells": [
  {
   "cell_type": "markdown",
   "id": "2955f9d3",
   "metadata": {},
   "source": [
    "# F\"String\""
   ]
  },
  {
   "cell_type": "code",
   "execution_count": 1,
   "id": "da8a1dff",
   "metadata": {},
   "outputs": [
    {
     "name": "stdout",
     "output_type": "stream",
     "text": [
      "Using Numeric variable = 3.141592653589793\n",
      "|        3.141592653589793|\n",
      "|3.141592653589793        |\n",
      "|        3.141592653589793|\n",
      "|    3.141592653589793    |\n"
     ]
    }
   ],
   "source": [
    "import math\n",
    "variable = math.pi\n",
    "print(f\"Using Numeric {variable = }\")\n",
    "print(f\"|{variable: 25}|\")\n",
    "print(f\"|{variable:<25}|\")\n",
    "print(f\"|{variable:>25}|\")\n",
    "print(f\"|{variable:^25}|\")"
   ]
  },
  {
   "cell_type": "code",
   "execution_count": 2,
   "id": "22dece40",
   "metadata": {},
   "outputs": [
    {
     "name": "stdout",
     "output_type": "stream",
     "text": [
      "Using String variable ='Python 3.9'\n",
      "|Python 3.9               |\n",
      "|Python 3.9               |\n",
      "|               Python 3.9|\n",
      "|       Python 3.9        |\n"
     ]
    }
   ],
   "source": [
    "variable = \"Python 3.9\"\n",
    "print(f\"Using String {variable =}\")\n",
    "print(f\"|{variable:25}|\")\n",
    "print(f\"|{variable:<25}|\")\n",
    "print(f\"|{variable:>25}|\")\n",
    "print(f\"|{variable:^25}|\")"
   ]
  },
  {
   "cell_type": "code",
   "execution_count": 3,
   "id": "5b26e24e",
   "metadata": {},
   "outputs": [
    {
     "name": "stdout",
     "output_type": "stream",
     "text": [
      "Using Numeric variable = 10\n",
      "This prints without formatting 10\n",
      "This prints with formatting 10\n",
      "This prints also with formatting 10\n",
      "This prints with spacing         10\n",
      "\n"
     ]
    }
   ],
   "source": [
    "variable = 10\n",
    "print(f\"Using Numeric {variable = }\")\n",
    "print(f\"This prints without formatting {variable}\")\n",
    "print(f\"This prints with formatting {variable:d}\")\n",
    "print(f\"This prints also with formatting {variable:n}\")\n",
    "print(f\"This prints with spacing {variable:10d}\\n\")"
   ]
  },
  {
   "cell_type": "code",
   "execution_count": 4,
   "id": "ce65de67",
   "metadata": {},
   "outputs": [
    {
     "name": "stdout",
     "output_type": "stream",
     "text": [
      "Using Numeric variable = 3.141592653589793\n",
      "This prints without formatting 3.141592653589793\n",
      "This prints with formatting 3.141593\n",
      "This prints with spacing             3.141593\n"
     ]
    }
   ],
   "source": [
    "variable = math.pi\n",
    "print(f\"Using Numeric {variable = }\")\n",
    "print(f\"This prints without formatting {variable}\")\n",
    "print(f\"This prints with formatting {variable:f}\")\n",
    "print(f\"This prints with spacing {variable:20f}\")\n"
   ]
  },
  {
   "cell_type": "code",
   "execution_count": 5,
   "id": "70f51b9b",
   "metadata": {},
   "outputs": [
    {
     "name": "stdout",
     "output_type": "stream",
     "text": [
      "Using Numeric variable = 4\n",
      "This prints without formatting 4\n",
      "This prints with percent formatting 400.000000%\n",
      "\n"
     ]
    }
   ],
   "source": [
    "variable = 4\n",
    "print(f\"Using Numeric {variable = }\")\n",
    "print(f\"This prints without formatting {variable}\")\n",
    "print(f\"This prints with percent formatting {variable:%}\\n\")\n"
   ]
  },
  {
   "cell_type": "code",
   "execution_count": 6,
   "id": "b1814787",
   "metadata": {},
   "outputs": [
    {
     "name": "stdout",
     "output_type": "stream",
     "text": [
      "Using numeric variable = 403267890\n",
      "This prints with exponential formatting 4.032679e+08\n"
     ]
    }
   ],
   "source": [
    "variable = 403267890\n",
    "print(f\"Using numeric {variable = }\")\n",
    "print(f\"This prints with exponential formatting {variable:e}\")"
   ]
  },
  {
   "cell_type": "markdown",
   "id": "5cbaf1c1",
   "metadata": {},
   "source": [
    "# Formatting Floating Point Numbers"
   ]
  },
  {
   "cell_type": "code",
   "execution_count": 7,
   "id": "54af3b87",
   "metadata": {},
   "outputs": [
    {
     "name": "stdout",
     "output_type": "stream",
     "text": [
      "Using Numeric variable = 1200356.8796\n",
      "With two decimal places: 1200356.88\n",
      "With four decimal places: 1,200,356.8796\n",
      "With a forced plus sign: +1200356.88\n",
      "\n"
     ]
    }
   ],
   "source": [
    "variable = 1200356.8796\n",
    "print(f\"Using Numeric {variable = }\")\n",
    "print(f\"With two decimal places: {variable:.2f}\")\n",
    "print(f\"With four decimal places: {variable:,.4f}\")\n",
    "print(f\"With a forced plus sign: {variable:+.2f}\\n\")"
   ]
  },
  {
   "cell_type": "code",
   "execution_count": 8,
   "id": "8741f66e",
   "metadata": {},
   "outputs": [],
   "source": [
    "variable *= -1"
   ]
  },
  {
   "cell_type": "code",
   "execution_count": 9,
   "id": "28149679",
   "metadata": {},
   "outputs": [
    {
     "name": "stdout",
     "output_type": "stream",
     "text": [
      "Using Numeric variable = -1200356.8796\n",
      "Print with two decimal places and a comma: -1,200,356.88\n"
     ]
    }
   ],
   "source": [
    "print(f\"Using Numeric {variable = }\")\n",
    "print(f\"Print with two decimal places and a comma: {variable:,.2f}\")"
   ]
  },
  {
   "cell_type": "code",
   "execution_count": 10,
   "id": "9c422fb8",
   "metadata": {},
   "outputs": [],
   "source": [
    "# Use of Tabs and Spacing"
   ]
  },
  {
   "cell_type": "code",
   "execution_count": 11,
   "id": "887e8e8d",
   "metadata": {},
   "outputs": [
    {
     "name": "stdout",
     "output_type": "stream",
     "text": [
      "Number   Square   Cube\n",
      " 1        1         1\n",
      " 2        4         8\n",
      " 3        9        27\n",
      " 4       16        64\n",
      " 5       25       125\n",
      " 6       36       216\n",
      " 7       49       343\n",
      " 8       64       512\n",
      " 9       81       729\n",
      "10      100      1000\n"
     ]
    }
   ],
   "source": [
    "print(f\"Number   Square   Cube\")\n",
    "for x in range(1,11):\n",
    "    print(f\"{x:2d}      {x*x:3d}      {x*x*x:4d}\")"
   ]
  },
  {
   "cell_type": "code",
   "execution_count": 12,
   "id": "51832da4",
   "metadata": {},
   "outputs": [],
   "source": [
    "# \\t --- tab character"
   ]
  },
  {
   "cell_type": "code",
   "execution_count": 13,
   "id": "00cc2a6f",
   "metadata": {},
   "outputs": [
    {
     "name": "stdout",
     "output_type": "stream",
     "text": [
      "Number\tSquare\tCube\n",
      " 1\t  1\t   1\n",
      " 2\t  4\t   8\n",
      " 3\t  9\t  27\n",
      " 4\t 16\t  64\n",
      " 5\t 25\t 125\n",
      " 6\t 36\t 216\n",
      " 7\t 49\t 343\n",
      " 8\t 64\t 512\n",
      " 9\t 81\t 729\n",
      "10\t100\t1000\n"
     ]
    }
   ],
   "source": [
    "print(f'Number\\tSquare\\tCube')\n",
    "for x in range(1,11):\n",
    "    print(f'{x:2d}\\t{x*x:3d}\\t{x*x*x:4d}')"
   ]
  },
  {
   "cell_type": "code",
   "execution_count": 14,
   "id": "48ae0202",
   "metadata": {},
   "outputs": [
    {
     "name": "stdout",
     "output_type": "stream",
     "text": [
      "Number\tSquare\tCube\n",
      " 1.00\t  1.00\t    1.00\n",
      " 2.00\t  4.00\t    8.00\n",
      " 3.00\t  9.00\t   27.00\n",
      " 4.00\t 16.00\t   64.00\n",
      " 5.00\t 25.00\t  125.00\n",
      " 6.00\t 36.00\t  216.00\n",
      " 7.00\t 49.00\t  343.00\n",
      " 8.00\t 64.00\t  512.00\n",
      " 9.00\t 81.00\t  729.00\n",
      "10.00\t100.00\t 1000.00\n"
     ]
    }
   ],
   "source": [
    "print(f'Number\\tSquare\\tCube')\n",
    "for x in range(1,11):\n",
    "    x = float(x)\n",
    "    print(f'{x:5.2f}\\t{x*x:6.2f}\\t{x*x*x:8.2f}')"
   ]
  },
  {
   "cell_type": "code",
   "execution_count": 15,
   "id": "6f7c8310",
   "metadata": {},
   "outputs": [
    {
     "name": "stdout",
     "output_type": "stream",
     "text": [
      "       My Grocery List        \n",
      "==============================\n",
      "Apples          3\t$ 1.50\n",
      "Rye Bread      10\t$15.00\n",
      "Cheese          6\t$13.50\n",
      "              Total:\t$30.00\n"
     ]
    }
   ],
   "source": [
    "# Typical Python Program\n",
    "APPLES = .50\n",
    "BREAD = 1.50\n",
    "CHEESE = 2.25\n",
    "\n",
    "numApples = 3\n",
    "numBread = 10\n",
    "numCheese = 6\n",
    "\n",
    "prcApples = numApples * APPLES\n",
    "prcBread = numBread * BREAD\n",
    "prcCheese = numCheese * CHEESE\n",
    "\n",
    "strApples = 'Apples'\n",
    "strBread = 'Rye Bread'\n",
    "strCheese = 'Cheese'\n",
    "\n",
    "total = prcBread + prcCheese + prcApples\n",
    "\n",
    "print(f'{\"My Grocery List\":^30s}')\n",
    "print(f'{\"=\"*30}')\n",
    "print(f'{strApples:10s}{numApples:7d}\\t${prcApples:>5.2f}')\n",
    "print(f'{strBread:10s}{numBread:7d}\\t${prcBread:>5.2f}')\n",
    "print(f'{strCheese:10s}{numCheese:7d}\\t${prcCheese:>5.2f}')\n",
    "print(f'{\"Total:\":>20s}\\t${total:>5.2f}')"
   ]
  },
  {
   "cell_type": "code",
   "execution_count": 16,
   "id": "723accd2",
   "metadata": {},
   "outputs": [
    {
     "name": "stdout",
     "output_type": "stream",
     "text": [
      "goldenRatio=1.618033988749895\n"
     ]
    }
   ],
   "source": [
    "# Using f-string for Debugging\n",
    "# variable name = variable value\n",
    "\n",
    "goldenRatio = (1+math.sqrt(5))/2\n",
    "print(f\"{goldenRatio=}\")"
   ]
  },
  {
   "cell_type": "code",
   "execution_count": 17,
   "id": "dbf2e251",
   "metadata": {},
   "outputs": [
    {
     "name": "stdout",
     "output_type": "stream",
     "text": [
      "goldenRatio = 1.618033988749895\n",
      "goldenRatio = 1.618034\n",
      "(1+math.sqrt(5))/2 = 1.618034\n"
     ]
    }
   ],
   "source": [
    "print(f\"{goldenRatio = }\")\n",
    "print(f\"{goldenRatio = :.6f}\")\n",
    "print(f\"{(1+math.sqrt(5))/2 = :.6f}\")"
   ]
  },
  {
   "cell_type": "code",
   "execution_count": null,
   "id": "f3b955f0",
   "metadata": {},
   "outputs": [],
   "source": []
  }
 ],
 "metadata": {
  "kernelspec": {
   "display_name": "Python 3",
   "language": "python",
   "name": "python3"
  },
  "language_info": {
   "codemirror_mode": {
    "name": "ipython",
    "version": 3
   },
   "file_extension": ".py",
   "mimetype": "text/x-python",
   "name": "python",
   "nbconvert_exporter": "python",
   "pygments_lexer": "ipython3",
   "version": "3.8.8"
  }
 },
 "nbformat": 4,
 "nbformat_minor": 5
}
